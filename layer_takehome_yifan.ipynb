{
 "cells": [
  {
   "cell_type": "markdown",
   "metadata": {},
   "source": [
    "# NOTES"
   ]
  },
  {
   "cell_type": "markdown",
   "metadata": {},
   "source": [
    "Big sections:\n",
    "* data ingestion and examination\n",
    "  * only 50 rows have labels for has_cancer and has_diabetes\n",
    "    * 20 positives for has_cancer, only 5 positives for has_diabetes\n",
    "  * use these 50 rows to do some validation and checks\n",
    "    * where do diabetes key words show up in has_diabetes==1\n",
    "    * examples of diabetes key words showing up in has_diabetes==0\n",
    "    * repeat for has_cancer\n",
    "  * how do we validate \n",
    "* breaking up text data to different sections, and getting ready for modeling\n",
    "  * fields of relevance, fields to ignore, fields to sometimes consider\n",
    "* looking for diabetes\n",
    "  * should only be for patients currently diabetic\n",
    "    * probably don't want to try and separate out cases where diabetes is in treatment\n",
    "    * it may be good to separately tag when diabetes is in patient's family history, or past history\n",
    "  * search things like 'glucose' will be way too broad, as it comes up in normal bloodwork. will need more context around those terms\n",
    "  * check in spaCy?\n",
    "* looking for cancer\n",
    "  * remember, here we're looking for whether patient had cancer at any time\n",
    "  * much bigger set of words to look for\n",
    "  * "
   ]
  },
  {
   "cell_type": "markdown",
   "metadata": {},
   "source": [
    "# CODE"
   ]
  },
  {
   "cell_type": "markdown",
   "metadata": {},
   "source": [
    "## Preamble"
   ]
  },
  {
   "cell_type": "code",
   "execution_count": 2,
   "metadata": {},
   "outputs": [],
   "source": [
    "import pandas as pd\n",
    "import re\n",
    "import spacy\n",
    "# from scispacy import en_core_sci_lg\n",
    "from scispacy.umls_linking import UmlsEntityLinker\n",
    "from spacy.language import Language\n",
    "from sklearn.model_selection import train_test_split"
   ]
  },
  {
   "cell_type": "code",
   "execution_count": 3,
   "metadata": {},
   "outputs": [
    {
     "name": "stdout",
     "output_type": "stream",
     "text": [
      "(1800, 5)\n",
      "(200, 5)\n",
      "(50, 5)\n",
      "(1750, 5)\n"
     ]
    }
   ],
   "source": [
    "# read in data\n",
    "rawdat = pd.read_csv('data/layer-data-sci-takehome-05062024.csv')\n",
    "\n",
    "# separate out test set\n",
    "traindat = rawdat.loc[rawdat['test_set']==0]\n",
    "testdat = rawdat.loc[rawdat['test_set']==1]\n",
    "\n",
    "# separate out labeled data\n",
    "labeldat = traindat.loc[traindat['has_cancer'].notnull()]\n",
    "nolabeldat = traindat.loc[traindat['has_cancer'].isnull()]\n",
    "\n",
    "print(traindat.shape)\n",
    "print(testdat.shape)\n",
    "print(labeldat.shape)\n",
    "print(nolabeldat.shape)"
   ]
  },
  {
   "cell_type": "markdown",
   "metadata": {},
   "source": [
    "# Basic functions"
   ]
  },
  {
   "cell_type": "code",
   "execution_count": 4,
   "metadata": {},
   "outputs": [],
   "source": [
    "def remove_namefields(text):\n",
    "    # Replace patterns that might represent PII placeholders like \"[Name]\", \"[Redacted]\", etc.\n",
    "    text = re.sub(r'\\[.*?\\]', '', text)\n",
    "    text = re.sub(r'Patient Name:.*\\n', '', text, flags=re.IGNORECASE)\n",
    "    return text\n",
    "\n",
    "def normalize_text(text):\n",
    "    '''\n",
    "    Normalize text data by lowercasing, removing punctuation, and extra whitespace\n",
    "    '''\n",
    "    text = text.lower() \n",
    "    text = re.sub(r'[^\\w\\s]', '', text) \n",
    "    text = re.sub(r'\\d+', '', text) \n",
    "    text = re.sub(r'\\s+', ' ', text).strip() \n",
    "    return text\n"
   ]
  },
  {
   "cell_type": "markdown",
   "metadata": {},
   "source": [
    "# EDA"
   ]
  },
  {
   "cell_type": "markdown",
   "metadata": {},
   "source": [
    "## Text examination\n",
    "\n",
    "First thing noticed is that there's lots of different header sections in the data\n",
    "\n",
    "Headers start with a newline (or start of the field) and end with a colon"
   ]
  },
  {
   "cell_type": "code",
   "execution_count": 5,
   "metadata": {},
   "outputs": [],
   "source": [
    "### Header extraction and analysis\n",
    "# pattern for extracting headers:\n",
    "    # 1. First character is a capital letter\n",
    "    # 2. followed by any combination of letters, spaces, commas, hyphens\n",
    "    # 3. ends with a colon and optional whitespace\n",
    "header_pattern = r'(?m)(?:^|(?<=\\n))[A-Z][a-zA-Z\\s,-]+:\\s*$'\n",
    "\n",
    "def find_header(textfield, pattern=header_pattern):\n",
    "    '''\n",
    "    Extracts headers from a single text field, given a header pattern\n",
    "    Returns list of headers found'''\n",
    "    return re.findall(pattern, textfield)\n",
    "\n",
    "def count_headers(df, pattern=header_pattern):\n",
    "    '''\n",
    "    Extracts headers from all text fields in a dataframe df\n",
    "    Returns a dictionary of headers and their counts'''\n",
    "    header_counts = {}\n",
    "\n",
    "    for text in df['text']:\n",
    "        headers = find_header(text, pattern)\n",
    "        for header in headers:\n",
    "            normheader = normalize_text(header)\n",
    "            if normheader not in header_counts:\n",
    "                header_counts[normheader] = 1\n",
    "            else:\n",
    "                header_counts[normheader] += 1\n",
    "    return header_counts\n",
    "\n"
   ]
  },
  {
   "cell_type": "code",
   "execution_count": 6,
   "metadata": {},
   "outputs": [
    {
     "name": "stdout",
     "output_type": "stream",
     "text": [
      "['discharge summary', 'history of presenting illness', 'hospital course', 'laboratory findings', 'radiographic findings', 'hospital treatment', 'discharge and followup plan']\n"
     ]
    }
   ],
   "source": [
    "# testing find_header on first text entry\n",
    "headers = find_header(traindat['text'][0])\n",
    "# Normalize all entries in headers\n",
    "clean_headers = [normalize_text(header) for header in headers]\n",
    "print(clean_headers)\n",
    "# Checking for consistent patterns or fields in the text column\n"
   ]
  },
  {
   "cell_type": "code",
   "execution_count": 7,
   "metadata": {},
   "outputs": [
    {
     "name": "stdout",
     "output_type": "stream",
     "text": [
      "809\n",
      "14\n",
      "43\n",
      "739\n"
     ]
    }
   ],
   "source": [
    "# Examine counts of patterns across 1800 training entries\n",
    "pattern_counts = count_headers(traindat)\n",
    "pattern_df = pd.DataFrame.from_dict(pattern_counts, orient='index', columns=['Count']).sort_values(by='Count', ascending=False)\n",
    "# fully display all rows with count greater than 100\n",
    "print(len(pattern_df))\n",
    "print(len(pattern_df[pattern_df['Count'] > 100]))\n",
    "print(len(pattern_df[pattern_df['Count'] > 20]))\n",
    "print(len(pattern_df[pattern_df['Count'] < 10]))\n"
   ]
  },
  {
   "cell_type": "code",
   "execution_count": 8,
   "metadata": {},
   "outputs": [
    {
     "name": "stdout",
     "output_type": "stream",
     "text": [
      "Over 100:\n"
     ]
    },
    {
     "data": {
      "text/html": [
       "<div>\n",
       "<style scoped>\n",
       "    .dataframe tbody tr th:only-of-type {\n",
       "        vertical-align: middle;\n",
       "    }\n",
       "\n",
       "    .dataframe tbody tr th {\n",
       "        vertical-align: top;\n",
       "    }\n",
       "\n",
       "    .dataframe thead th {\n",
       "        text-align: right;\n",
       "    }\n",
       "</style>\n",
       "<table border=\"1\" class=\"dataframe\">\n",
       "  <thead>\n",
       "    <tr style=\"text-align: right;\">\n",
       "      <th></th>\n",
       "      <th>Count</th>\n",
       "    </tr>\n",
       "  </thead>\n",
       "  <tbody>\n",
       "    <tr>\n",
       "      <th>hospital course</th>\n",
       "      <td>1475</td>\n",
       "    </tr>\n",
       "    <tr>\n",
       "      <th>discharge summary</th>\n",
       "      <td>1003</td>\n",
       "    </tr>\n",
       "    <tr>\n",
       "      <th>followup</th>\n",
       "      <td>454</td>\n",
       "    </tr>\n",
       "    <tr>\n",
       "      <th>treatment</th>\n",
       "      <td>299</td>\n",
       "    </tr>\n",
       "    <tr>\n",
       "      <th>diagnosis</th>\n",
       "      <td>285</td>\n",
       "    </tr>\n",
       "    <tr>\n",
       "      <th>hospital course summary</th>\n",
       "      <td>284</td>\n",
       "    </tr>\n",
       "    <tr>\n",
       "      <th>summary</th>\n",
       "      <td>246</td>\n",
       "    </tr>\n",
       "    <tr>\n",
       "      <th>discharge diagnosis</th>\n",
       "      <td>209</td>\n",
       "    </tr>\n",
       "    <tr>\n",
       "      <th>discharge instructions</th>\n",
       "      <td>194</td>\n",
       "    </tr>\n",
       "    <tr>\n",
       "      <th>discharge medications</th>\n",
       "      <td>179</td>\n",
       "    </tr>\n",
       "    <tr>\n",
       "      <th>discharge condition</th>\n",
       "      <td>158</td>\n",
       "    </tr>\n",
       "    <tr>\n",
       "      <th>patient information</th>\n",
       "      <td>145</td>\n",
       "    </tr>\n",
       "    <tr>\n",
       "      <th>medical history</th>\n",
       "      <td>109</td>\n",
       "    </tr>\n",
       "    <tr>\n",
       "      <th>followup care</th>\n",
       "      <td>101</td>\n",
       "    </tr>\n",
       "  </tbody>\n",
       "</table>\n",
       "</div>"
      ],
      "text/plain": [
       "                         Count\n",
       "hospital course           1475\n",
       "discharge summary         1003\n",
       "followup                   454\n",
       "treatment                  299\n",
       "diagnosis                  285\n",
       "hospital course summary    284\n",
       "summary                    246\n",
       "discharge diagnosis        209\n",
       "discharge instructions     194\n",
       "discharge medications      179\n",
       "discharge condition        158\n",
       "patient information        145\n",
       "medical history            109\n",
       "followup care              101"
      ]
     },
     "execution_count": 8,
     "metadata": {},
     "output_type": "execute_result"
    }
   ],
   "source": [
    "print(\"Over 100:\")\n",
    "pattern_df[pattern_df['Count'] > 100]\n"
   ]
  },
  {
   "cell_type": "code",
   "execution_count": 9,
   "metadata": {},
   "outputs": [
    {
     "name": "stdout",
     "output_type": "stream",
     "text": [
      "20 to 100:\n"
     ]
    },
    {
     "data": {
      "text/html": [
       "<div>\n",
       "<style scoped>\n",
       "    .dataframe tbody tr th:only-of-type {\n",
       "        vertical-align: middle;\n",
       "    }\n",
       "\n",
       "    .dataframe tbody tr th {\n",
       "        vertical-align: top;\n",
       "    }\n",
       "\n",
       "    .dataframe thead th {\n",
       "        text-align: right;\n",
       "    }\n",
       "</style>\n",
       "<table border=\"1\" class=\"dataframe\">\n",
       "  <thead>\n",
       "    <tr style=\"text-align: right;\">\n",
       "      <th></th>\n",
       "      <th>Count</th>\n",
       "    </tr>\n",
       "  </thead>\n",
       "  <tbody>\n",
       "    <tr>\n",
       "      <th>condition at discharge</th>\n",
       "      <td>97</td>\n",
       "    </tr>\n",
       "    <tr>\n",
       "      <th>outcome</th>\n",
       "      <td>91</td>\n",
       "    </tr>\n",
       "    <tr>\n",
       "      <th>disposition</th>\n",
       "      <td>77</td>\n",
       "    </tr>\n",
       "    <tr>\n",
       "      <th>followup plan</th>\n",
       "      <td>64</td>\n",
       "    </tr>\n",
       "    <tr>\n",
       "      <th>reason for admission</th>\n",
       "      <td>61</td>\n",
       "    </tr>\n",
       "    <tr>\n",
       "      <th>recommendations</th>\n",
       "      <td>60</td>\n",
       "    </tr>\n",
       "    <tr>\n",
       "      <th>history of present illness</th>\n",
       "      <td>55</td>\n",
       "    </tr>\n",
       "    <tr>\n",
       "      <th>instructions</th>\n",
       "      <td>53</td>\n",
       "    </tr>\n",
       "    <tr>\n",
       "      <th>followup instructions</th>\n",
       "      <td>53</td>\n",
       "    </tr>\n",
       "    <tr>\n",
       "      <th>diagnoses</th>\n",
       "      <td>50</td>\n",
       "    </tr>\n",
       "    <tr>\n",
       "      <th>final diagnosis</th>\n",
       "      <td>48</td>\n",
       "    </tr>\n",
       "    <tr>\n",
       "      <th>discharge plan</th>\n",
       "      <td>47</td>\n",
       "    </tr>\n",
       "    <tr>\n",
       "      <th>conclusion</th>\n",
       "      <td>36</td>\n",
       "    </tr>\n",
       "    <tr>\n",
       "      <th>condition on discharge</th>\n",
       "      <td>36</td>\n",
       "    </tr>\n",
       "    <tr>\n",
       "      <th>procedures</th>\n",
       "      <td>35</td>\n",
       "    </tr>\n",
       "    <tr>\n",
       "      <th>admission diagnosis</th>\n",
       "      <td>34</td>\n",
       "    </tr>\n",
       "    <tr>\n",
       "      <th>past medical history</th>\n",
       "      <td>34</td>\n",
       "    </tr>\n",
       "    <tr>\n",
       "      <th>diagnostic findings</th>\n",
       "      <td>31</td>\n",
       "    </tr>\n",
       "    <tr>\n",
       "      <th>followup appointments</th>\n",
       "      <td>30</td>\n",
       "    </tr>\n",
       "    <tr>\n",
       "      <th>brief hospital course</th>\n",
       "      <td>30</td>\n",
       "    </tr>\n",
       "    <tr>\n",
       "      <th>discharge diagnoses</th>\n",
       "      <td>30</td>\n",
       "    </tr>\n",
       "    <tr>\n",
       "      <th>medications</th>\n",
       "      <td>30</td>\n",
       "    </tr>\n",
       "    <tr>\n",
       "      <th>followup recommendations</th>\n",
       "      <td>29</td>\n",
       "    </tr>\n",
       "    <tr>\n",
       "      <th>chief complaint</th>\n",
       "      <td>29</td>\n",
       "    </tr>\n",
       "    <tr>\n",
       "      <th>plan</th>\n",
       "      <td>28</td>\n",
       "    </tr>\n",
       "    <tr>\n",
       "      <th>clinical course</th>\n",
       "      <td>23</td>\n",
       "    </tr>\n",
       "    <tr>\n",
       "      <th>impression</th>\n",
       "      <td>23</td>\n",
       "    </tr>\n",
       "    <tr>\n",
       "      <th>diagnosis and treatment</th>\n",
       "      <td>22</td>\n",
       "    </tr>\n",
       "    <tr>\n",
       "      <th>physical examination</th>\n",
       "      <td>21</td>\n",
       "    </tr>\n",
       "  </tbody>\n",
       "</table>\n",
       "</div>"
      ],
      "text/plain": [
       "                            Count\n",
       "condition at discharge         97\n",
       "outcome                        91\n",
       "disposition                    77\n",
       "followup plan                  64\n",
       "reason for admission           61\n",
       "recommendations                60\n",
       "history of present illness     55\n",
       "instructions                   53\n",
       "followup instructions          53\n",
       "diagnoses                      50\n",
       "final diagnosis                48\n",
       "discharge plan                 47\n",
       "conclusion                     36\n",
       "condition on discharge         36\n",
       "procedures                     35\n",
       "admission diagnosis            34\n",
       "past medical history           34\n",
       "diagnostic findings            31\n",
       "followup appointments          30\n",
       "brief hospital course          30\n",
       "discharge diagnoses            30\n",
       "medications                    30\n",
       "followup recommendations       29\n",
       "chief complaint                29\n",
       "plan                           28\n",
       "clinical course                23\n",
       "impression                     23\n",
       "diagnosis and treatment        22\n",
       "physical examination           21"
      ]
     },
     "execution_count": 9,
     "metadata": {},
     "output_type": "execute_result"
    }
   ],
   "source": [
    "print(\"20 to 100:\")\n",
    "pattern_df[(pattern_df['Count'] > 20) & (pattern_df['Count'] < 100)]"
   ]
  },
  {
   "cell_type": "markdown",
   "metadata": {},
   "source": [
    "## Non-text examination"
   ]
  },
  {
   "cell_type": "code",
   "execution_count": 10,
   "metadata": {},
   "outputs": [
    {
     "name": "stdout",
     "output_type": "stream",
     "text": [
      "(2000, 5)\n",
      "2000\n",
      "test_set\n",
      "0    1800\n",
      "1     200\n",
      "Name: count, dtype: int64\n",
      "has_cancer\n",
      "0.0    30\n",
      "1.0    20\n",
      "Name: count, dtype: int64\n",
      "has_diabetes\n",
      "0.0    45\n",
      "1.0     5\n",
      "Name: count, dtype: int64\n",
      "1950\n",
      "1950\n"
     ]
    }
   ],
   "source": [
    "# checking if all patients are unique\n",
    "print(rawdat.shape)\n",
    "print(rawdat['patient_identifier'].nunique())\n",
    "\n",
    "# check # of test set\n",
    "print(rawdat['test_set'].value_counts())\n",
    "\n",
    "# check # of cancer and diabetes patients\n",
    "print(rawdat['has_cancer'].value_counts())\n",
    "print(rawdat['has_diabetes'].value_counts())\n",
    "\n",
    "# check patients for whom has_cancer is empty\n",
    "print(sum(rawdat['has_cancer'].isnull()))\n",
    "print(sum(rawdat['has_diabetes'].isnull()))"
   ]
  },
  {
   "cell_type": "markdown",
   "metadata": {},
   "source": [
    "# Text cleaning"
   ]
  },
  {
   "cell_type": "code",
   "execution_count": 11,
   "metadata": {},
   "outputs": [],
   "source": [
    "def remove_sensitive_information(text):\n",
    "    # Replace patterns that might represent PII placeholders like \"[Name]\", \"[Redacted]\", etc.\n",
    "    text = re.sub(r'\\[.*?\\]', '', text)\n",
    "    # Remove any remaining names or identifiers (optional if needed for anonymization)\n",
    "    text = re.sub(r'Patient Name:.*\\n', '', text, flags=re.IGNORECASE)\n",
    "    return text\n",
    "\n",
    "# df['cleaned_text'] = df['text'].apply(remove_sensitive_information)\n",
    "\n",
    "def normalize_text(text):\n",
    "    text = text.lower()  # Convert to lowercase\n",
    "    text = re.sub(r'[^\\w\\s]', '', text)  # Remove punctuation\n",
    "    text = re.sub(r'\\d+', '', text)  # Remove numbers\n",
    "    text = re.sub(r'\\s+', ' ', text).strip()  # Remove extra whitespace\n",
    "    return text\n",
    "\n",
    "# df['normalized_text'] = df['cleaned_text'].apply(normalize_text)\n"
   ]
  },
  {
   "cell_type": "code",
   "execution_count": 12,
   "metadata": {},
   "outputs": [
    {
     "data": {
      "text/html": [
       "<div>\n",
       "<style scoped>\n",
       "    .dataframe tbody tr th:only-of-type {\n",
       "        vertical-align: middle;\n",
       "    }\n",
       "\n",
       "    .dataframe tbody tr th {\n",
       "        vertical-align: top;\n",
       "    }\n",
       "\n",
       "    .dataframe thead th {\n",
       "        text-align: right;\n",
       "    }\n",
       "</style>\n",
       "<table border=\"1\" class=\"dataframe\">\n",
       "  <thead>\n",
       "    <tr style=\"text-align: right;\">\n",
       "      <th></th>\n",
       "      <th>patient_identifier</th>\n",
       "      <th>text</th>\n",
       "      <th>has_cancer</th>\n",
       "      <th>has_diabetes</th>\n",
       "      <th>test_set</th>\n",
       "      <th>cleaned_text</th>\n",
       "      <th>normalized_text</th>\n",
       "      <th>tokenized_text</th>\n",
       "    </tr>\n",
       "  </thead>\n",
       "  <tbody>\n",
       "    <tr>\n",
       "      <th>0</th>\n",
       "      <td>2200</td>\n",
       "      <td>DISCHARGE SUMMARY:\\n\\nPatient Name: [Redacted]...</td>\n",
       "      <td>1.0</td>\n",
       "      <td>0.0</td>\n",
       "      <td>0</td>\n",
       "      <td>DISCHARGE SUMMARY:\\n\\nAge: 38\\nSex: Female\\nMe...</td>\n",
       "      <td>discharge summary age sex female medical recor...</td>\n",
       "      <td>[discharge, summary, age, sex, female, medical...</td>\n",
       "    </tr>\n",
       "    <tr>\n",
       "      <th>1</th>\n",
       "      <td>645</td>\n",
       "      <td>Discharge Summary:\\n\\nPatient: [Name]\\n\\nMedic...</td>\n",
       "      <td>0.0</td>\n",
       "      <td>0.0</td>\n",
       "      <td>0</td>\n",
       "      <td>Discharge Summary:\\n\\nPatient: \\n\\nMedical Rec...</td>\n",
       "      <td>discharge summary patient medical record numbe...</td>\n",
       "      <td>[discharge, summary, patient, medical, record,...</td>\n",
       "    </tr>\n",
       "    <tr>\n",
       "      <th>2</th>\n",
       "      <td>2563</td>\n",
       "      <td>Discharge Summary:\\nPatient name: [REDACTED]\\n...</td>\n",
       "      <td>0.0</td>\n",
       "      <td>0.0</td>\n",
       "      <td>0</td>\n",
       "      <td>Discharge Summary:\\nSex: Female\\nAge: 70 years...</td>\n",
       "      <td>discharge summary sex female age years admissi...</td>\n",
       "      <td>[discharge, summary, sex, female, age, years, ...</td>\n",
       "    </tr>\n",
       "    <tr>\n",
       "      <th>3</th>\n",
       "      <td>2275</td>\n",
       "      <td>Discharge Summary:\\n\\nPatient: 59-year-old Ita...</td>\n",
       "      <td>1.0</td>\n",
       "      <td>0.0</td>\n",
       "      <td>0</td>\n",
       "      <td>Discharge Summary:\\n\\nPatient: 59-year-old Ita...</td>\n",
       "      <td>discharge summary patient yearold italian male...</td>\n",
       "      <td>[discharge, summary, patient, yearold, italian...</td>\n",
       "    </tr>\n",
       "    <tr>\n",
       "      <th>4</th>\n",
       "      <td>1828</td>\n",
       "      <td>Hospital Course:\\n\\nThe 80-year-old male prese...</td>\n",
       "      <td>0.0</td>\n",
       "      <td>1.0</td>\n",
       "      <td>0</td>\n",
       "      <td>Hospital Course:\\n\\nThe 80-year-old male prese...</td>\n",
       "      <td>hospital course the yearold male presented to ...</td>\n",
       "      <td>[hospital, course, the, yearold, male, present...</td>\n",
       "    </tr>\n",
       "  </tbody>\n",
       "</table>\n",
       "</div>"
      ],
      "text/plain": [
       "   patient_identifier                                               text  \\\n",
       "0                2200  DISCHARGE SUMMARY:\\n\\nPatient Name: [Redacted]...   \n",
       "1                 645  Discharge Summary:\\n\\nPatient: [Name]\\n\\nMedic...   \n",
       "2                2563  Discharge Summary:\\nPatient name: [REDACTED]\\n...   \n",
       "3                2275  Discharge Summary:\\n\\nPatient: 59-year-old Ita...   \n",
       "4                1828  Hospital Course:\\n\\nThe 80-year-old male prese...   \n",
       "\n",
       "   has_cancer  has_diabetes  test_set  \\\n",
       "0         1.0           0.0         0   \n",
       "1         0.0           0.0         0   \n",
       "2         0.0           0.0         0   \n",
       "3         1.0           0.0         0   \n",
       "4         0.0           1.0         0   \n",
       "\n",
       "                                        cleaned_text  \\\n",
       "0  DISCHARGE SUMMARY:\\n\\nAge: 38\\nSex: Female\\nMe...   \n",
       "1  Discharge Summary:\\n\\nPatient: \\n\\nMedical Rec...   \n",
       "2  Discharge Summary:\\nSex: Female\\nAge: 70 years...   \n",
       "3  Discharge Summary:\\n\\nPatient: 59-year-old Ita...   \n",
       "4  Hospital Course:\\n\\nThe 80-year-old male prese...   \n",
       "\n",
       "                                     normalized_text  \\\n",
       "0  discharge summary age sex female medical recor...   \n",
       "1  discharge summary patient medical record numbe...   \n",
       "2  discharge summary sex female age years admissi...   \n",
       "3  discharge summary patient yearold italian male...   \n",
       "4  hospital course the yearold male presented to ...   \n",
       "\n",
       "                                      tokenized_text  \n",
       "0  [discharge, summary, age, sex, female, medical...  \n",
       "1  [discharge, summary, patient, medical, record,...  \n",
       "2  [discharge, summary, sex, female, age, years, ...  \n",
       "3  [discharge, summary, patient, yearold, italian...  \n",
       "4  [hospital, course, the, yearold, male, present...  "
      ]
     },
     "execution_count": 12,
     "metadata": {},
     "output_type": "execute_result"
    }
   ],
   "source": [
    "df = rawdat.copy()\n",
    "df = df.loc[df['test_set'] == 0]\n",
    "\n",
    "# Remove sensitive information\n",
    "df['cleaned_text'] = df['text'].apply(remove_sensitive_information)\n",
    "\n",
    "# Normalize the text\n",
    "df['normalized_text'] = df['cleaned_text'].apply(normalize_text)\n",
    "\n",
    "# Optional: Tokenize the text\n",
    "df['tokenized_text'] = df['normalized_text'].apply(lambda x: x.split())\n",
    "\n",
    "df.head()"
   ]
  },
  {
   "cell_type": "code",
   "execution_count": 13,
   "metadata": {},
   "outputs": [
    {
     "data": {
      "text/html": [
       "<div>\n",
       "<style scoped>\n",
       "    .dataframe tbody tr th:only-of-type {\n",
       "        vertical-align: middle;\n",
       "    }\n",
       "\n",
       "    .dataframe tbody tr th {\n",
       "        vertical-align: top;\n",
       "    }\n",
       "\n",
       "    .dataframe thead th {\n",
       "        text-align: right;\n",
       "    }\n",
       "</style>\n",
       "<table border=\"1\" class=\"dataframe\">\n",
       "  <thead>\n",
       "    <tr style=\"text-align: right;\">\n",
       "      <th></th>\n",
       "      <th>Count</th>\n",
       "    </tr>\n",
       "  </thead>\n",
       "  <tbody>\n",
       "    <tr>\n",
       "      <th>Hospital Course</th>\n",
       "      <td>1091</td>\n",
       "    </tr>\n",
       "    <tr>\n",
       "      <th>Discharge Summary</th>\n",
       "      <td>932</td>\n",
       "    </tr>\n",
       "    <tr>\n",
       "      <th>Patient Name</th>\n",
       "      <td>612</td>\n",
       "    </tr>\n",
       "    <tr>\n",
       "      <th>Discharge Date</th>\n",
       "      <td>456</td>\n",
       "    </tr>\n",
       "    <tr>\n",
       "      <th>Diagnosis</th>\n",
       "      <td>334</td>\n",
       "    </tr>\n",
       "    <tr>\n",
       "      <th>Admission Date</th>\n",
       "      <td>329</td>\n",
       "    </tr>\n",
       "    <tr>\n",
       "      <th>Gender</th>\n",
       "      <td>317</td>\n",
       "    </tr>\n",
       "    <tr>\n",
       "      <th>Age</th>\n",
       "      <td>307</td>\n",
       "    </tr>\n",
       "    <tr>\n",
       "      <th>Treatment</th>\n",
       "      <td>300</td>\n",
       "    </tr>\n",
       "    <tr>\n",
       "      <th>Date of Discharge</th>\n",
       "      <td>300</td>\n",
       "    </tr>\n",
       "    <tr>\n",
       "      <th>Medical Record Number</th>\n",
       "      <td>258</td>\n",
       "    </tr>\n",
       "    <tr>\n",
       "      <th>Discharge Diagnosis</th>\n",
       "      <td>247</td>\n",
       "    </tr>\n",
       "    <tr>\n",
       "      <th>Hospital Course Summary</th>\n",
       "      <td>236</td>\n",
       "    </tr>\n",
       "    <tr>\n",
       "      <th>Summary</th>\n",
       "      <td>235</td>\n",
       "    </tr>\n",
       "    <tr>\n",
       "      <th>Date of Admission</th>\n",
       "      <td>232</td>\n",
       "    </tr>\n",
       "    <tr>\n",
       "      <th>Patient</th>\n",
       "      <td>181</td>\n",
       "    </tr>\n",
       "    <tr>\n",
       "      <th>Discharge Medications</th>\n",
       "      <td>168</td>\n",
       "    </tr>\n",
       "    <tr>\n",
       "      <th>Sex</th>\n",
       "      <td>166</td>\n",
       "    </tr>\n",
       "    <tr>\n",
       "      <th>Discharge Condition</th>\n",
       "      <td>152</td>\n",
       "    </tr>\n",
       "    <tr>\n",
       "      <th>Up</th>\n",
       "      <td>152</td>\n",
       "    </tr>\n",
       "    <tr>\n",
       "      <th>Discharge Summary\\n\\nPatient Name</th>\n",
       "      <td>148</td>\n",
       "    </tr>\n",
       "    <tr>\n",
       "      <th>Admitting Diagnosis</th>\n",
       "      <td>147</td>\n",
       "    </tr>\n",
       "    <tr>\n",
       "      <th>Patient Information</th>\n",
       "      <td>146</td>\n",
       "    </tr>\n",
       "    <tr>\n",
       "      <th>Discharge Instructions</th>\n",
       "      <td>140</td>\n",
       "    </tr>\n",
       "    <tr>\n",
       "      <th>Name</th>\n",
       "      <td>135</td>\n",
       "    </tr>\n",
       "    <tr>\n",
       "      <th>Medical History</th>\n",
       "      <td>112</td>\n",
       "    </tr>\n",
       "  </tbody>\n",
       "</table>\n",
       "</div>"
      ],
      "text/plain": [
       "                                   Count\n",
       "Hospital Course                     1091\n",
       "Discharge Summary                    932\n",
       "Patient Name                         612\n",
       "Discharge Date                       456\n",
       "Diagnosis                            334\n",
       "Admission Date                       329\n",
       "Gender                               317\n",
       "Age                                  307\n",
       "Treatment                            300\n",
       "Date of Discharge                    300\n",
       "Medical Record Number                258\n",
       "Discharge Diagnosis                  247\n",
       "Hospital Course Summary              236\n",
       "Summary                              235\n",
       "Date of Admission                    232\n",
       "Patient                              181\n",
       "Discharge Medications                168\n",
       "Sex                                  166\n",
       "Discharge Condition                  152\n",
       "Up                                   152\n",
       "Discharge Summary\\n\\nPatient Name    148\n",
       "Admitting Diagnosis                  147\n",
       "Patient Information                  146\n",
       "Discharge Instructions               140\n",
       "Name                                 135\n",
       "Medical History                      112"
      ]
     },
     "execution_count": 13,
     "metadata": {},
     "output_type": "execute_result"
    }
   ],
   "source": [
    "# Checking for consistent patterns or fields in the text column\n",
    "\n",
    "# Extracting common patterns and counts\n",
    "pattern_counts = {}\n",
    "\n",
    "for text in df['text']:\n",
    "    # Extract any lines that appear to have structured headers (e.g., lines followed by a colon)\n",
    "    matches = re.findall(r'([A-Z][a-zA-Z\\s]+):', text)\n",
    "    for match in matches:\n",
    "        if match not in pattern_counts:\n",
    "            pattern_counts[match] = 0\n",
    "        pattern_counts[match] += 1\n",
    "\n",
    "# Converting pattern counts to a DataFrame for easier visualization\n",
    "pattern_df = pd.DataFrame.from_dict(pattern_counts, orient='index', columns=['Count']).sort_values(by='Count', ascending=False)\n",
    "# fully display all rows with count greater than 100\n",
    "pattern_df[pattern_df['Count'] > 100]\n",
    "\n",
    "\n",
    "\n"
   ]
  },
  {
   "cell_type": "code",
   "execution_count": 14,
   "metadata": {},
   "outputs": [],
   "source": [
    "tmpdf_diabetes = traindat.loc[traindat['has_diabetes'] == 1]\n",
    "tmpdf_diabetes.to_csv('data/diabetes.csv', index=False)\n",
    "\n",
    "tmpdf_cancer = traindat.loc[traindat['has_cancer'] == 1]\n",
    "tmpdf_cancer.to_csv('data/cancer.csv', index=False)\n",
    "\n",
    "tmpdf_nodiabetes = traindat.loc[traindat['has_diabetes'] == 0]\n",
    "tmpdf_nodiabetes.to_csv('data/nodiabetes.csv', index=False)\n",
    "\n",
    "tmpdf_nocancer = traindat.loc[traindat['has_cancer'] == 0]\n",
    "tmpdf_nocancer.to_csv('data/nocancer.csv', index=False)\n",
    "\n"
   ]
  },
  {
   "cell_type": "markdown",
   "metadata": {},
   "source": [
    "# Cancer model"
   ]
  },
  {
   "cell_type": "code",
   "execution_count": 16,
   "metadata": {},
   "outputs": [
    {
     "name": "stderr",
     "output_type": "stream",
     "text": [
      "c:\\Users\\YifanCao\\AppData\\Local\\Programs\\Python\\Python39\\lib\\site-packages\\spacy\\language.py:2195: FutureWarning: Possible set union at position 6328\n",
      "  deserializers[\"tokenizer\"] = lambda p: self.tokenizer.from_disk(  # type: ignore[union-attr]\n"
     ]
    }
   ],
   "source": [
    "nlp = spacy.load('en_core_sci_lg')"
   ]
  },
  {
   "cell_type": "code",
   "execution_count": 17,
   "metadata": {},
   "outputs": [
    {
     "data": {
      "text/plain": [
       "'discharge summary age sex female medical record number history of presenting illness the patient presented to the hospital with a month history of headache in august a neurological examination showed a limitation of temporal movement in her right eye brain mri revealed masses in her clivus measuring mm x mm and mm x mm she underwent surgery and was subsequently treated with stereotactic radiotherapy in march a recurrence in her clivus was detected and she underwent another operation in january she presented with diplopia and a recurrent mass in her clivus was detected with invasion to the pons external cranial radiotherapy was performed for palliative intent she was started on imatinib in april and sunitinib in june hospital course during her admission the patient reported several symptoms including periorbital edema skin rash nausea visual loss fatigue and handfoot syndrome she received months of imatinib therapy and months of sunitinib treatment her symptoms were monitored and managed accordingly laboratory findings no significant abnormalities were observed in the laboratory findings radiographic findings brain mri showed a residual mass in her clivus in march progressive disease was confirmed in may and radiological and clinical progression was detected in december hospital treatment the patient underwent several treatments including surgery stereotactic radiotherapy and external cranial radiotherapy she was started on imatinib in april and sunitinib in june she received the appropriate supportive care during her hospital stay discharge and followup plan the patient was discharged in april and continued her followup with best supportive care until her death on april'"
      ]
     },
     "execution_count": 17,
     "metadata": {},
     "output_type": "execute_result"
    }
   ],
   "source": [
    "tmptxt = tmpdf_cancer['text'][0]\n",
    "tmptxt = remove_sensitive_information(tmptxt)\n",
    "tmptxt = normalize_text(tmptxt)\n",
    "tmptxt"
   ]
  },
  {
   "cell_type": "code",
   "execution_count": 18,
   "metadata": {},
   "outputs": [
    {
     "name": "stdout",
     "output_type": "stream",
     "text": [
      "[discharge summary age sex female medical record number history of presenting illness the patient presented to the hospital with a month history of headache in august a neurological examination showed a limitation of temporal movement in her right eye brain mri revealed masses in her clivus measuring mm x mm and mm x mm she underwent surgery and was subsequently treated with stereotactic radiotherapy in march a recurrence in her clivus was detected and she underwent another operation in january she presented with diplopia and a recurrent mass in her clivus was detected with invasion to the pons external cranial radiotherapy was performed for palliative intent she was started on imatinib in april and sunitinib in june hospital course during her admission the patient reported several symptoms including periorbital edema skin rash nausea visual loss fatigue and handfoot syndrome she received months of imatinib therapy and months of sunitinib treatment her symptoms were monitored and managed accordingly laboratory findings no significant abnormalities were observed in the laboratory findings radiographic findings brain mri showed a residual mass in her clivus in march progressive disease was confirmed in may and radiological and clinical progression was detected in december hospital treatment the patient underwent several treatments including surgery stereotactic radiotherapy and external cranial radiotherapy, she was started on imatinib in april and sunitinib in june she received the appropriate supportive care during her hospital stay discharge and followup plan the patient was discharged in april and continued her followup with best supportive care until her death on april]\n",
      "(discharge, age sex, female, medical record, presenting illness, patient, hospital, month, history, headache, neurological examination, limitation, temporal, movement, right eye brain mri, masses, clivus, measuring, surgery, treated with, stereotactic radiotherapy, recurrence, clivus, detected, operation, january, diplopia, recurrent mass, clivus, detected, invasion, pons, cranial radiotherapy, palliative intent, imatinib, april, sunitinib, june hospital course, admission, patient, symptoms, periorbital edema, skin rash, nausea, handfoot syndrome, months, imatinib therapy, months, sunitinib, treatment, symptoms, monitored, laboratory findings, abnormalities, laboratory findings, radiographic, findings, brain mri, residual mass, clivus, progressive, disease, radiological, clinical progression, detected, december, hospital treatment, patient, treatments, surgery, stereotactic radiotherapy, external, cranial radiotherapy, imatinib, april, sunitinib, supportive care, hospital stay discharge, followup, plan, patient, discharged, april, followup, supportive care, death, april)\n"
     ]
    }
   ],
   "source": [
    "tmpdoc = nlp(tmptxt)\n",
    "print(list(tmpdoc.sents))\n",
    "print(tmpdoc.ents)"
   ]
  },
  {
   "cell_type": "markdown",
   "metadata": {},
   "source": [
    "## Split labeled data into train/valid"
   ]
  },
  {
   "cell_type": "code",
   "execution_count": 19,
   "metadata": {},
   "outputs": [
    {
     "name": "stdout",
     "output_type": "stream",
     "text": [
      "(30, 5)\n",
      "(20, 5)\n",
      "has_cancer\n",
      "0.0    13\n",
      "1.0     7\n",
      "Name: count, dtype: int64\n"
     ]
    }
   ],
   "source": [
    "# Separate labeled data to training/validation\n",
    "cancer_labeltrain, cancer_labelval = train_test_split(labeldat, test_size=0.4, random_state=1234)\n",
    "print(cancer_labeltrain.shape)\n",
    "print(cancer_labelval.shape)\n",
    "print(cancer_labelval['has_cancer'].value_counts())"
   ]
  },
  {
   "cell_type": "code",
   "execution_count": 20,
   "metadata": {},
   "outputs": [
    {
     "name": "stderr",
     "output_type": "stream",
     "text": [
      "c:\\Users\\YifanCao\\AppData\\Local\\Programs\\Python\\Python39\\lib\\site-packages\\spacy\\language.py:813: UserWarning: [W119] Overriding pipe name in `config` is not supported. Ignoring override 'umls'.\n",
      "  warnings.warn(Warnings.W119.format(name_in_config=config.pop(\"name\")))\n",
      "c:\\Users\\YifanCao\\AppData\\Local\\Programs\\Python\\Python39\\lib\\site-packages\\sklearn\\base.py:376: InconsistentVersionWarning: Trying to unpickle estimator TfidfTransformer from version 1.1.2 when using version 1.5.1. This might lead to breaking code or invalid results. Use at your own risk. For more info please refer to:\n",
      "https://scikit-learn.org/stable/model_persistence.html#security-maintainability-limitations\n",
      "  warnings.warn(\n",
      "c:\\Users\\YifanCao\\AppData\\Local\\Programs\\Python\\Python39\\lib\\site-packages\\sklearn\\base.py:376: InconsistentVersionWarning: Trying to unpickle estimator TfidfVectorizer from version 1.1.2 when using version 1.5.1. This might lead to breaking code or invalid results. Use at your own risk. For more info please refer to:\n",
      "https://scikit-learn.org/stable/model_persistence.html#security-maintainability-limitations\n",
      "  warnings.warn(\n"
     ]
    },
    {
     "ename": "",
     "evalue": "",
     "output_type": "error",
     "traceback": [
      "\u001b[1;31mThe Kernel crashed while executing code in the current cell or a previous cell. \n",
      "\u001b[1;31mPlease review the code in the cell(s) to identify a possible cause of the failure. \n",
      "\u001b[1;31mClick <a href='https://aka.ms/vscodeJupyterKernelCrash'>here</a> for more info. \n",
      "\u001b[1;31mView Jupyter <a href='command:jupyter.viewOutput'>log</a> for further details."
     ]
    }
   ],
   "source": [
    "# Register the UmlsEntityLinker manually\n",
    "@Language.factory(\"umls_linker\")\n",
    "def create_umls_linker(nlp, name, resolve_abbreviations=True, name_source=\"umls\"):\n",
    "    return UmlsEntityLinker(resolve_abbreviations=resolve_abbreviations, name=name_source)\n",
    "\n",
    "\n",
    "# linker = UmlsEntityLinker(resolve_abbreviations=True, name=\"umls\")\n",
    "nlp.add_pipe(\"umls_linker\", config={\"resolve_abbreviations\": True, \"name\": \"umls\"})\n",
    "\n",
    "# Process a text example\n",
    "# doc = nlp(cancer_labeltrain['text'][0])\n",
    "doc = nlp(\"The patient had a history of Hilar cholangiocarcinoma and cervical cancer, both of which were successfully resected. The patient was also diagnosed with Peutz-Jeghers Syndrome (PJS) based on the presence of hamartomatous polyps in the gastrointestinal tract and melanin pigmentation on the hands. The patient's son also had PJS.\")\n",
    "\n",
    "# Extract linked cancer terms\n",
    "for ent in doc.ents:\n",
    "    for umls_ent in ent._.umls_ents:\n",
    "        if 'neoplasm' in umls_ent.cui or 'cancer' in umls_ent.cui:  # Check for relevant UMLS concepts\n",
    "            print(f\"Term: {ent.text}, CUI: {umls_ent.cui}, Source: {umls_ent.preferred_term}\")"
   ]
  },
  {
   "cell_type": "markdown",
   "metadata": {},
   "source": [
    "# OTHER"
   ]
  }
 ],
 "metadata": {
  "kernelspec": {
   "display_name": "Python 3",
   "language": "python",
   "name": "python3"
  },
  "language_info": {
   "codemirror_mode": {
    "name": "ipython",
    "version": 3
   },
   "file_extension": ".py",
   "mimetype": "text/x-python",
   "name": "python",
   "nbconvert_exporter": "python",
   "pygments_lexer": "ipython3",
   "version": "3.9.13"
  }
 },
 "nbformat": 4,
 "nbformat_minor": 2
}
